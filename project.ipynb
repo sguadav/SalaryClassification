{
 "cells": [
  {
   "cell_type": "code",
   "execution_count": 154,
   "id": "fe9194b2-2d31-460d-9307-fc26a4b3e5a1",
   "metadata": {},
   "outputs": [],
   "source": [
    "import pandas as pd\n",
    "import sklearn\n",
    "import seaborn as sns\n",
    "import matplotlib.pyplot as plt"
   ]
  },
  {
   "cell_type": "markdown",
   "id": "c33883cd",
   "metadata": {},
   "source": [
    "Dataset: https://www.kaggle.com/datasets/uciml/adult-census-income?resource=download"
   ]
  },
  {
   "cell_type": "code",
   "execution_count": 213,
   "id": "30842ea3-9eaf-4efb-8e7b-41475b1e765d",
   "metadata": {},
   "outputs": [],
   "source": [
    "def calc_count(listing):\n",
    "    count = {}\n",
    "    for val in listing:\n",
    "        if val in count:\n",
    "            count[val] += 1\n",
    "        else:\n",
    "            count[val] = 1\n",
    "    return count"
   ]
  },
  {
   "cell_type": "code",
   "execution_count": 252,
   "id": "df9cd4c4-07e8-488d-8a0b-b8d45c616f18",
   "metadata": {},
   "outputs": [],
   "source": [
    "def eda_analysis(column_label, df):\n",
    "    workclass = df.loc[:,column_label].tolist()\n",
    "    count_workclass = dict(sorted(calc_count(workclass).items(), key=lambda item: item[1], reverse=1))\n",
    "    # count_workclass\n",
    "    sns.histplot(workclass)\n",
    "    plt.xticks(rotation=90)\n",
    "    plt.title(column_label)\n",
    "    plt.savefig(column_label.replace(\".\",\"_\")+\".png\")\n",
    "    return count_workclass"
   ]
  },
  {
   "cell_type": "code",
   "execution_count": 253,
   "id": "8092fe3d-fba8-442a-bc64-5ef24da46843",
   "metadata": {},
   "outputs": [],
   "source": [
    "df = pd.read_csv('Datasets/adult.csv')\n"
   ]
  },
  {
   "cell_type": "code",
   "execution_count": 254,
   "id": "4b529862-6883-4267-908b-275fc01f711c",
   "metadata": {},
   "outputs": [
    {
     "data": {
      "text/plain": [
       "<bound method NDFrame.head of        age workclass     education  education.num      marital.status  \\\n",
       "1       82   Private       HS-grad              9             Widowed   \n",
       "3       54   Private       7th-8th              4            Divorced   \n",
       "4       41   Private  Some-college             10           Separated   \n",
       "5       34   Private       HS-grad              9            Divorced   \n",
       "6       38   Private          10th              6           Separated   \n",
       "...    ...       ...           ...            ...                 ...   \n",
       "32556   22   Private  Some-college             10       Never-married   \n",
       "32557   27   Private    Assoc-acdm             12  Married-civ-spouse   \n",
       "32558   40   Private       HS-grad              9  Married-civ-spouse   \n",
       "32559   58   Private       HS-grad              9             Widowed   \n",
       "32560   22   Private       HS-grad              9       Never-married   \n",
       "\n",
       "              occupation   relationship   race     sex  capital.gain  \\\n",
       "1        Exec-managerial  Not-in-family  White  Female             0   \n",
       "3      Machine-op-inspct      Unmarried  White  Female             0   \n",
       "4         Prof-specialty      Own-child  White  Female             0   \n",
       "5          Other-service      Unmarried  White  Female             0   \n",
       "6           Adm-clerical      Unmarried  White    Male             0   \n",
       "...                  ...            ...    ...     ...           ...   \n",
       "32556    Protective-serv  Not-in-family  White    Male             0   \n",
       "32557       Tech-support           Wife  White  Female             0   \n",
       "32558  Machine-op-inspct        Husband  White    Male             0   \n",
       "32559       Adm-clerical      Unmarried  White  Female             0   \n",
       "32560       Adm-clerical      Own-child  White    Male             0   \n",
       "\n",
       "       capital.loss  hours.per.week income  \n",
       "1              4356              18  <=50K  \n",
       "3              3900              40  <=50K  \n",
       "4              3900              40  <=50K  \n",
       "5              3770              45  <=50K  \n",
       "6              3770              40  <=50K  \n",
       "...             ...             ...    ...  \n",
       "32556             0              40  <=50K  \n",
       "32557             0              38  <=50K  \n",
       "32558             0              40   >50K  \n",
       "32559             0              40  <=50K  \n",
       "32560             0              20  <=50K  \n",
       "\n",
       "[30718 rows x 13 columns]>"
      ]
     },
     "execution_count": 254,
     "metadata": {},
     "output_type": "execute_result"
    }
   ],
   "source": [
    "df = df.drop(labels=[\"native.country\", \"fnlwgt\"], axis=1)\n",
    "\n",
    "missing_values_idx = df[df.eq(\"?\").any(1)].index\n",
    "df = df.drop(missing_values_idx, axis=0)\n",
    "df.head"
   ]
  },
  {
   "cell_type": "code",
   "execution_count": 255,
   "id": "77390576-ec89-426d-8ccb-d07f0c65a533",
   "metadata": {},
   "outputs": [
    {
     "data": {
      "text/plain": [
       "{'HS-grad': 9968,\n",
       " 'Some-college': 6775,\n",
       " 'Bachelors': 5182,\n",
       " 'Masters': 1675,\n",
       " 'Assoc-voc': 1321,\n",
       " '11th': 1056,\n",
       " 'Assoc-acdm': 1020,\n",
       " '10th': 831,\n",
       " '7th-8th': 573,\n",
       " 'Prof-school': 558,\n",
       " '9th': 463,\n",
       " 'Doctorate': 398,\n",
       " '12th': 393,\n",
       " '5th-6th': 303,\n",
       " '1st-4th': 156,\n",
       " 'Preschool': 46}"
      ]
     },
     "execution_count": 255,
     "metadata": {},
     "output_type": "execute_result"
    },
    {
     "data": {
      "image/png": "[encoded data removed]",
      "text/plain": [
       "<Figure size 432x288 with 1 Axes>"
      ]
     },
     "metadata": {
      "needs_background": "light"
     },
     "output_type": "display_data"
    }
   ],
   "source": [
    "education_count = eda_analysis(\"education\", df)\n",
    "df[\"education\"].replace([\"Doctorate\", 'Prof-school', 'Masters', 'Bachelors', 'Some-college', 'HS-grad', 'Assoc-voc', '11th','Assoc-acdm', '10th', '7th-8th',\n",
    "                         '9th', '12th','5th-6th', '1st-4th', 'Preschool'], [6,6,5,4,3,2,1,1,1,1,1,1,1,1,1,1], inplace=True)\n",
    "education_count"
   ]
  },
  {
   "cell_type": "code",
   "execution_count": 256,
   "id": "40f45a3e-d606-4462-a5fb-e85bc109372e",
   "metadata": {},
   "outputs": [
    {
     "data": {
      "image/png": "[encoded data removed]",
      "text/plain": [
       "<Figure size 432x288 with 1 Axes>"
      ]
     },
     "metadata": {
      "needs_background": "light"
     },
     "output_type": "display_data"
    }
   ],
   "source": [
    "marital_count = eda_analysis(\"marital.status\", df)\n",
    "marital_count\n",
    "df[\"marital.status\"].replace(['Married-civ-spouse','Never-married','Divorced','Separated','Widowed','Married-spouse-absent','Married-AF-spouse'],\n",
    "                             [4,3,2,2,1,4,4], inplace=True)\n"
   ]
  },
  {
   "cell_type": "code",
   "execution_count": 257,
   "id": "908da82b-cfd8-4d7d-b475-0dfbecab75d5",
   "metadata": {},
   "outputs": [
    {
     "data": {
      "image/png": "[encoded data removed]",
      "text/plain": [
       "<Figure size 432x288 with 1 Axes>"
      ]
     },
     "metadata": {
      "needs_background": "light"
     },
     "output_type": "display_data"
    }
   ],
   "source": [
    "marital_count = eda_analysis(\"occupation\", df)\n",
    "marital_count\n",
    "df[\"occupation\"].replace(['Prof-specialty','Craft-repair','Exec-managerial','Adm-clerical','Sales','Other-service','Machine-op-inspct','Transport-moving',\n",
    "                'Handlers-cleaners','Farming-fishing','Tech-support','Protective-serv','Priv-house-serv','Armed-Forces'], \n",
    "               [14,13,12,11,10,9,8,7,6,5,4,3,2,1], inplace=True)"
   ]
  },
  {
   "cell_type": "code",
   "execution_count": 258,
   "id": "f988e245-aa29-40ce-8fe8-20f2f7156bd8",
   "metadata": {},
   "outputs": [
    {
     "data": {
      "image/png": "[encoded data removed]",
      "text/plain": [
       "<Figure size 432x288 with 1 Axes>"
      ]
     },
     "metadata": {
      "needs_background": "light"
     },
     "output_type": "display_data"
    }
   ],
   "source": [
    "marital_count = eda_analysis(\"race\", df)\n",
    "marital_count\n",
    "df[\"race\"].replace(['White', 'Black', 'Asian-Pac-Islander','Amer-Indian-Eskimo','Other'], [5,4,3,2,1], inplace=True)\n"
   ]
  },
  {
   "cell_type": "code",
   "execution_count": 259,
   "id": "9272de3f-d612-4afb-9e75-28f341b8506f",
   "metadata": {},
   "outputs": [
    {
     "data": {
      "image/png": "[encoded data removed]",
      "text/plain": [
       "<Figure size 432x288 with 1 Axes>"
      ]
     },
     "metadata": {
      "needs_background": "light"
     },
     "output_type": "display_data"
    }
   ],
   "source": [
    "marital_count = eda_analysis(\"sex\", df)\n",
    "marital_count\n",
    "df[\"sex\"].replace(['Female', 'Male'], [1,2], inplace=True)"
   ]
  },
  {
   "cell_type": "code",
   "execution_count": 260,
   "id": "0661c5e2-8421-4c5c-842d-04598f2ae0df",
   "metadata": {},
   "outputs": [
    {
     "data": {
      "image/png": "[encoded data removed]",
      "text/plain": [
       "<Figure size 432x288 with 1 Axes>"
      ]
     },
     "metadata": {
      "needs_background": "light"
     },
     "output_type": "display_data"
    }
   ],
   "source": [
    "marital_count = eda_analysis(\"capital.gain\", df)\n"
   ]
  },
  {
   "cell_type": "code",
   "execution_count": 261,
   "id": "0067376a-af67-4663-bb44-994b136c592f",
   "metadata": {},
   "outputs": [
    {
     "data": {
      "image/png": "[encoded data removed]",
      "text/plain": [
       "<Figure size 432x288 with 1 Axes>"
      ]
     },
     "metadata": {
      "needs_background": "light"
     },
     "output_type": "display_data"
    }
   ],
   "source": [
    "marital_count = eda_analysis(\"capital.loss\", df)"
   ]
  },
  {
   "cell_type": "code",
   "execution_count": 262,
   "id": "69204302-ba9f-438f-9161-f6a73e923bd6",
   "metadata": {},
   "outputs": [
    {
     "data": {
      "image/png": "[encoded data removed]",
      "text/plain": [
       "<Figure size 432x288 with 1 Axes>"
      ]
     },
     "metadata": {
      "needs_background": "light"
     },
     "output_type": "display_data"
    }
   ],
   "source": [
    "marital_count = eda_analysis(\"hours.per.week\", df)"
   ]
  },
  {
   "cell_type": "code",
   "execution_count": 263,
   "id": "968ba65d-0579-4b54-b36e-aafa60f7c594",
   "metadata": {},
   "outputs": [
    {
     "data": {
      "text/plain": [
       "{'<=50K': 23068, '>50K': 7650}"
      ]
     },
     "execution_count": 263,
     "metadata": {},
     "output_type": "execute_result"
    },
    {
     "data": {
      "image/png": "[encoded data removed]",
      "text/plain": [
       "<Figure size 432x288 with 1 Axes>"
      ]
     },
     "metadata": {
      "needs_background": "light"
     },
     "output_type": "display_data"
    }
   ],
   "source": [
    "income = df.loc[:,\"income\"].tolist()\n",
    "marital_count = eda_analysis(\"income\", df)\n",
    "df[\"income\"].replace(['<=50K', '>50K'], [1,2], inplace=True)\n",
    "marital_count\n"
   ]
  },
  {
   "cell_type": "code",
   "execution_count": 226,
   "id": "e726b770-4e54-450d-b902-fe11b32491bd",
   "metadata": {},
   "outputs": [],
   "source": [
    "df = df.drop(labels=[\"education.num\", \"relationship\", \"workclass\"], axis=1)"
   ]
  },
  {
   "cell_type": "code",
   "execution_count": 227,
   "id": "2781537c-7483-42fd-890a-080dc10319af",
   "metadata": {},
   "outputs": [
    {
     "data": {
      "text/plain": [
       "Index(['age', 'education', 'marital.status', 'occupation', 'race', 'sex',\n",
       "       'capital.gain', 'capital.loss', 'hours.per.week', 'income'],\n",
       "      dtype='object')"
      ]
     },
     "execution_count": 227,
     "metadata": {},
     "output_type": "execute_result"
    }
   ],
   "source": [
    "df.columns\n",
    "# df.head"
   ]
  },
  {
   "cell_type": "code",
   "execution_count": 228,
   "id": "f4ee5952-b346-495f-9edd-4863287960c6",
   "metadata": {},
   "outputs": [
    {
     "data": {
      "text/plain": [
       "<bound method NDFrame.head of        age  education  marital.status  occupation  race  sex  capital.gain  \\\n",
       "1       82          2               1          12     5    1             0   \n",
       "3       54          1               2           8     5    1             0   \n",
       "4       41          3               2          14     5    1             0   \n",
       "5       34          2               2           9     5    1             0   \n",
       "6       38          1               2          11     5    2             0   \n",
       "...    ...        ...             ...         ...   ...  ...           ...   \n",
       "32556   22          3               3           3     5    2             0   \n",
       "32557   27          1               4           4     5    1             0   \n",
       "32558   40          2               4           8     5    2             0   \n",
       "32559   58          2               1          11     5    1             0   \n",
       "32560   22          2               3          11     5    2             0   \n",
       "\n",
       "       capital.loss  hours.per.week  income  \n",
       "1              4356              18       1  \n",
       "3              3900              40       1  \n",
       "4              3900              40       1  \n",
       "5              3770              45       1  \n",
       "6              3770              40       1  \n",
       "...             ...             ...     ...  \n",
       "32556             0              40       1  \n",
       "32557             0              38       1  \n",
       "32558             0              40       2  \n",
       "32559             0              40       1  \n",
       "32560             0              20       1  \n",
       "\n",
       "[30718 rows x 10 columns]>"
      ]
     },
     "execution_count": 228,
     "metadata": {},
     "output_type": "execute_result"
    }
   ],
   "source": [
    "df.head"
   ]
  },
  {
   "cell_type": "code",
   "execution_count": 229,
   "id": "2fd61b24-a156-4c56-b21b-03d1be9a8310",
   "metadata": {},
   "outputs": [
    {
     "data": {
      "text/html": [
       "<div>\n",
       "<style scoped>\n",
       "    .dataframe tbody tr th:only-of-type {\n",
       "        vertical-align: middle;\n",
       "    }\n",
       "\n",
       "    .dataframe tbody tr th {\n",
       "        vertical-align: top;\n",
       "    }\n",
       "\n",
       "    .dataframe thead th {\n",
       "        text-align: right;\n",
       "    }\n",
       "</style>\n",
       "<table border=\"1\" class=\"dataframe\">\n",
       "  <thead>\n",
       "    <tr style=\"text-align: right;\">\n",
       "      <th></th>\n",
       "      <th>age</th>\n",
       "      <th>education</th>\n",
       "      <th>marital.status</th>\n",
       "      <th>occupation</th>\n",
       "      <th>race</th>\n",
       "      <th>sex</th>\n",
       "      <th>capital.gain</th>\n",
       "      <th>capital.loss</th>\n",
       "      <th>hours.per.week</th>\n",
       "      <th>income</th>\n",
       "    </tr>\n",
       "  </thead>\n",
       "  <tbody>\n",
       "    <tr>\n",
       "      <th>age</th>\n",
       "      <td>1.000000</td>\n",
       "      <td>0.081213</td>\n",
       "      <td>0.030262</td>\n",
       "      <td>0.079849</td>\n",
       "      <td>0.036374</td>\n",
       "      <td>0.082117</td>\n",
       "      <td>0.080392</td>\n",
       "      <td>0.060409</td>\n",
       "      <td>0.101879</td>\n",
       "      <td>0.242431</td>\n",
       "    </tr>\n",
       "    <tr>\n",
       "      <th>education</th>\n",
       "      <td>0.081213</td>\n",
       "      <td>1.000000</td>\n",
       "      <td>0.091681</td>\n",
       "      <td>0.319303</td>\n",
       "      <td>0.026254</td>\n",
       "      <td>0.027539</td>\n",
       "      <td>0.141800</td>\n",
       "      <td>0.084411</td>\n",
       "      <td>0.139211</td>\n",
       "      <td>0.325670</td>\n",
       "    </tr>\n",
       "    <tr>\n",
       "      <th>marital.status</th>\n",
       "      <td>0.030262</td>\n",
       "      <td>0.091681</td>\n",
       "      <td>1.000000</td>\n",
       "      <td>0.042989</td>\n",
       "      <td>0.039860</td>\n",
       "      <td>0.447084</td>\n",
       "      <td>0.065589</td>\n",
       "      <td>0.061413</td>\n",
       "      <td>0.163355</td>\n",
       "      <td>0.354533</td>\n",
       "    </tr>\n",
       "    <tr>\n",
       "      <th>occupation</th>\n",
       "      <td>0.079849</td>\n",
       "      <td>0.319303</td>\n",
       "      <td>0.042989</td>\n",
       "      <td>1.000000</td>\n",
       "      <td>0.037288</td>\n",
       "      <td>-0.034597</td>\n",
       "      <td>0.073157</td>\n",
       "      <td>0.049251</td>\n",
       "      <td>0.054927</td>\n",
       "      <td>0.184381</td>\n",
       "    </tr>\n",
       "    <tr>\n",
       "      <th>race</th>\n",
       "      <td>0.036374</td>\n",
       "      <td>0.026254</td>\n",
       "      <td>0.039860</td>\n",
       "      <td>0.037288</td>\n",
       "      <td>1.000000</td>\n",
       "      <td>0.065004</td>\n",
       "      <td>0.008203</td>\n",
       "      <td>0.018872</td>\n",
       "      <td>0.034405</td>\n",
       "      <td>0.067332</td>\n",
       "    </tr>\n",
       "    <tr>\n",
       "      <th>sex</th>\n",
       "      <td>0.082117</td>\n",
       "      <td>0.027539</td>\n",
       "      <td>0.447084</td>\n",
       "      <td>-0.034597</td>\n",
       "      <td>0.065004</td>\n",
       "      <td>1.000000</td>\n",
       "      <td>0.047757</td>\n",
       "      <td>0.047010</td>\n",
       "      <td>0.230321</td>\n",
       "      <td>0.216626</td>\n",
       "    </tr>\n",
       "    <tr>\n",
       "      <th>capital.gain</th>\n",
       "      <td>0.080392</td>\n",
       "      <td>0.141800</td>\n",
       "      <td>0.065589</td>\n",
       "      <td>0.073157</td>\n",
       "      <td>0.008203</td>\n",
       "      <td>0.047757</td>\n",
       "      <td>1.000000</td>\n",
       "      <td>-0.032332</td>\n",
       "      <td>0.079548</td>\n",
       "      <td>0.221871</td>\n",
       "    </tr>\n",
       "    <tr>\n",
       "      <th>capital.loss</th>\n",
       "      <td>0.060409</td>\n",
       "      <td>0.084411</td>\n",
       "      <td>0.061413</td>\n",
       "      <td>0.049251</td>\n",
       "      <td>0.018872</td>\n",
       "      <td>0.047010</td>\n",
       "      <td>-0.032332</td>\n",
       "      <td>1.000000</td>\n",
       "      <td>0.053961</td>\n",
       "      <td>0.151461</td>\n",
       "    </tr>\n",
       "    <tr>\n",
       "      <th>hours.per.week</th>\n",
       "      <td>0.101879</td>\n",
       "      <td>0.139211</td>\n",
       "      <td>0.163355</td>\n",
       "      <td>0.054927</td>\n",
       "      <td>0.034405</td>\n",
       "      <td>0.230321</td>\n",
       "      <td>0.079548</td>\n",
       "      <td>0.053961</td>\n",
       "      <td>1.000000</td>\n",
       "      <td>0.228547</td>\n",
       "    </tr>\n",
       "    <tr>\n",
       "      <th>income</th>\n",
       "      <td>0.242431</td>\n",
       "      <td>0.325670</td>\n",
       "      <td>0.354533</td>\n",
       "      <td>0.184381</td>\n",
       "      <td>0.067332</td>\n",
       "      <td>0.216626</td>\n",
       "      <td>0.221871</td>\n",
       "      <td>0.151461</td>\n",
       "      <td>0.228547</td>\n",
       "      <td>1.000000</td>\n",
       "    </tr>\n",
       "  </tbody>\n",
       "</table>\n",
       "</div>"
      ],
      "text/plain": [
       "                     age  education  marital.status  occupation      race  \\\n",
       "age             1.000000   0.081213        0.030262    0.079849  0.036374   \n",
       "education       0.081213   1.000000        0.091681    0.319303  0.026254   \n",
       "marital.status  0.030262   0.091681        1.000000    0.042989  0.039860   \n",
       "occupation      0.079849   0.319303        0.042989    1.000000  0.037288   \n",
       "race            0.036374   0.026254        0.039860    0.037288  1.000000   \n",
       "sex             0.082117   0.027539        0.447084   -0.034597  0.065004   \n",
       "capital.gain    0.080392   0.141800        0.065589    0.073157  0.008203   \n",
       "capital.loss    0.060409   0.084411        0.061413    0.049251  0.018872   \n",
       "hours.per.week  0.101879   0.139211        0.163355    0.054927  0.034405   \n",
       "income          0.242431   0.325670        0.354533    0.184381  0.067332   \n",
       "\n",
       "                     sex  capital.gain  capital.loss  hours.per.week    income  \n",
       "age             0.082117      0.080392      0.060409        0.101879  0.242431  \n",
       "education       0.027539      0.141800      0.084411        0.139211  0.325670  \n",
       "marital.status  0.447084      0.065589      0.061413        0.163355  0.354533  \n",
       "occupation     -0.034597      0.073157      0.049251        0.054927  0.184381  \n",
       "race            0.065004      0.008203      0.018872        0.034405  0.067332  \n",
       "sex             1.000000      0.047757      0.047010        0.230321  0.216626  \n",
       "capital.gain    0.047757      1.000000     -0.032332        0.079548  0.221871  \n",
       "capital.loss    0.047010     -0.032332      1.000000        0.053961  0.151461  \n",
       "hours.per.week  0.230321      0.079548      0.053961        1.000000  0.228547  \n",
       "income          0.216626      0.221871      0.151461        0.228547  1.000000  "
      ]
     },
     "execution_count": 229,
     "metadata": {},
     "output_type": "execute_result"
    }
   ],
   "source": [
    "correlation = df.corr()\n",
    "correlation"
   ]
  },
  {
   "cell_type": "code",
   "execution_count": 230,
   "id": "75361695-53e5-4b60-8a99-028bb2a8e3a4",
   "metadata": {},
   "outputs": [
    {
     "data": {
      "text/plain": [
       "Text(0.5, 1.0, 'Income Correlation')"
      ]
     },
     "execution_count": 230,
     "metadata": {},
     "output_type": "execute_result"
    },
    {
     "data": {
      "image/png": "[encoded data removed]",
      "text/plain": [
       "<Figure size 432x288 with 2 Axes>"
      ]
     },
     "metadata": {
      "needs_background": "light"
     },
     "output_type": "display_data"
    }
   ],
   "source": [
    "cmap = sns.diverging_palette(220,10, as_cmap=True) \n",
    "sns.heatmap(correlation, vmax=0.5, center=0, cmap=cmap, square=True, linewidth=1, cbar_kws={\"shrink\": 0.6}).set_title(\"Income Correlation\")"
   ]
  },
  {
   "cell_type": "code",
   "execution_count": 232,
   "id": "f4b09c92-068f-43a1-8356-59c9775f2fcc",
   "metadata": {},
   "outputs": [
    {
     "data": {
      "text/html": [
       "<div>\n",
       "<style scoped>\n",
       "    .dataframe tbody tr th:only-of-type {\n",
       "        vertical-align: middle;\n",
       "    }\n",
       "\n",
       "    .dataframe tbody tr th {\n",
       "        vertical-align: top;\n",
       "    }\n",
       "\n",
       "    .dataframe thead th {\n",
       "        text-align: right;\n",
       "    }\n",
       "</style>\n",
       "<table border=\"1\" class=\"dataframe\">\n",
       "  <thead>\n",
       "    <tr style=\"text-align: right;\">\n",
       "      <th></th>\n",
       "      <th>age</th>\n",
       "      <th>capital.gain</th>\n",
       "      <th>capital.loss</th>\n",
       "      <th>education</th>\n",
       "      <th>hours.per.week</th>\n",
       "      <th>marital.status</th>\n",
       "      <th>occupation</th>\n",
       "      <th>race</th>\n",
       "      <th>sex</th>\n",
       "    </tr>\n",
       "    <tr>\n",
       "      <th>income</th>\n",
       "      <th></th>\n",
       "      <th></th>\n",
       "      <th></th>\n",
       "      <th></th>\n",
       "      <th></th>\n",
       "      <th></th>\n",
       "      <th></th>\n",
       "      <th></th>\n",
       "      <th></th>\n",
       "    </tr>\n",
       "  </thead>\n",
       "  <tbody>\n",
       "    <tr>\n",
       "      <th>1</th>\n",
       "      <td>36.612190</td>\n",
       "      <td>148.055618</td>\n",
       "      <td>53.528524</td>\n",
       "      <td>2.403199</td>\n",
       "      <td>39.371900</td>\n",
       "      <td>3.085530</td>\n",
       "      <td>9.907968</td>\n",
       "      <td>4.757543</td>\n",
       "      <td>1.618389</td>\n",
       "    </tr>\n",
       "    <tr>\n",
       "      <th>2</th>\n",
       "      <td>43.966013</td>\n",
       "      <td>3994.758170</td>\n",
       "      <td>195.601046</td>\n",
       "      <td>3.375817</td>\n",
       "      <td>45.705882</td>\n",
       "      <td>3.768497</td>\n",
       "      <td>11.170980</td>\n",
       "      <td>4.854379</td>\n",
       "      <td>1.852680</td>\n",
       "    </tr>\n",
       "  </tbody>\n",
       "</table>\n",
       "</div>"
      ],
      "text/plain": [
       "              age  capital.gain  capital.loss  education  hours.per.week  \\\n",
       "income                                                                     \n",
       "1       36.612190    148.055618     53.528524   2.403199       39.371900   \n",
       "2       43.966013   3994.758170    195.601046   3.375817       45.705882   \n",
       "\n",
       "        marital.status  occupation      race       sex  \n",
       "income                                                  \n",
       "1             3.085530    9.907968  4.757543  1.618389  \n",
       "2             3.768497   11.170980  4.854379  1.852680  "
      ]
     },
     "execution_count": 232,
     "metadata": {},
     "output_type": "execute_result"
    }
   ],
   "source": [
    "pd.pivot_table(df, values=['age', 'education', 'marital.status', 'occupation', 'race', 'sex', 'capital.gain', 'capital.loss', \n",
    "                           'hours.per.week'], index=['income'])"
   ]
  },
  {
   "cell_type": "markdown",
   "id": "e4db588f-6595-4cda-b269-cbcdf29ef545",
   "metadata": {},
   "source": [
    "**EDA Analysis:**\n",
    "The higher the score, the more closer is to the estimated results of each column. For income 1 = <=50K and 2 = >50K."
   ]
  },
  {
   "cell_type": "code",
   "execution_count": 233,
   "id": "43392793",
   "metadata": {},
   "outputs": [
    {
     "data": {
      "text/html": [
       "<div>\n",
       "<style scoped>\n",
       "    .dataframe tbody tr th:only-of-type {\n",
       "        vertical-align: middle;\n",
       "    }\n",
       "\n",
       "    .dataframe tbody tr th {\n",
       "        vertical-align: top;\n",
       "    }\n",
       "\n",
       "    .dataframe thead th {\n",
       "        text-align: right;\n",
       "    }\n",
       "</style>\n",
       "<table border=\"1\" class=\"dataframe\">\n",
       "  <thead>\n",
       "    <tr style=\"text-align: right;\">\n",
       "      <th></th>\n",
       "      <th>age</th>\n",
       "      <th>education</th>\n",
       "      <th>marital.status</th>\n",
       "      <th>occupation</th>\n",
       "      <th>race</th>\n",
       "      <th>sex</th>\n",
       "      <th>capital.gain</th>\n",
       "      <th>capital.loss</th>\n",
       "      <th>hours.per.week</th>\n",
       "      <th>income</th>\n",
       "    </tr>\n",
       "  </thead>\n",
       "  <tbody>\n",
       "    <tr>\n",
       "      <th>count</th>\n",
       "      <td>30718.000000</td>\n",
       "      <td>30718.000000</td>\n",
       "      <td>30718.000000</td>\n",
       "      <td>30718.000000</td>\n",
       "      <td>30718.000000</td>\n",
       "      <td>30718.000000</td>\n",
       "      <td>30718.000000</td>\n",
       "      <td>30718.000000</td>\n",
       "      <td>30718.000000</td>\n",
       "      <td>30718.000000</td>\n",
       "    </tr>\n",
       "    <tr>\n",
       "      <th>mean</th>\n",
       "      <td>38.443584</td>\n",
       "      <td>2.645420</td>\n",
       "      <td>3.255616</td>\n",
       "      <td>10.222508</td>\n",
       "      <td>4.781659</td>\n",
       "      <td>1.676737</td>\n",
       "      <td>1106.037079</td>\n",
       "      <td>88.910216</td>\n",
       "      <td>40.949313</td>\n",
       "      <td>1.249040</td>\n",
       "    </tr>\n",
       "    <tr>\n",
       "      <th>std</th>\n",
       "      <td>13.118227</td>\n",
       "      <td>1.291561</td>\n",
       "      <td>0.833092</td>\n",
       "      <td>2.962386</td>\n",
       "      <td>0.621965</td>\n",
       "      <td>0.467730</td>\n",
       "      <td>7497.863364</td>\n",
       "      <td>405.657203</td>\n",
       "      <td>11.985382</td>\n",
       "      <td>0.432464</td>\n",
       "    </tr>\n",
       "    <tr>\n",
       "      <th>min</th>\n",
       "      <td>17.000000</td>\n",
       "      <td>1.000000</td>\n",
       "      <td>1.000000</td>\n",
       "      <td>1.000000</td>\n",
       "      <td>1.000000</td>\n",
       "      <td>1.000000</td>\n",
       "      <td>0.000000</td>\n",
       "      <td>0.000000</td>\n",
       "      <td>1.000000</td>\n",
       "      <td>1.000000</td>\n",
       "    </tr>\n",
       "    <tr>\n",
       "      <th>25%</th>\n",
       "      <td>28.000000</td>\n",
       "      <td>2.000000</td>\n",
       "      <td>3.000000</td>\n",
       "      <td>8.000000</td>\n",
       "      <td>5.000000</td>\n",
       "      <td>1.000000</td>\n",
       "      <td>0.000000</td>\n",
       "      <td>0.000000</td>\n",
       "      <td>40.000000</td>\n",
       "      <td>1.000000</td>\n",
       "    </tr>\n",
       "    <tr>\n",
       "      <th>50%</th>\n",
       "      <td>37.000000</td>\n",
       "      <td>2.000000</td>\n",
       "      <td>3.000000</td>\n",
       "      <td>11.000000</td>\n",
       "      <td>5.000000</td>\n",
       "      <td>2.000000</td>\n",
       "      <td>0.000000</td>\n",
       "      <td>0.000000</td>\n",
       "      <td>40.000000</td>\n",
       "      <td>1.000000</td>\n",
       "    </tr>\n",
       "    <tr>\n",
       "      <th>75%</th>\n",
       "      <td>47.000000</td>\n",
       "      <td>4.000000</td>\n",
       "      <td>4.000000</td>\n",
       "      <td>13.000000</td>\n",
       "      <td>5.000000</td>\n",
       "      <td>2.000000</td>\n",
       "      <td>0.000000</td>\n",
       "      <td>0.000000</td>\n",
       "      <td>45.000000</td>\n",
       "      <td>1.000000</td>\n",
       "    </tr>\n",
       "    <tr>\n",
       "      <th>max</th>\n",
       "      <td>90.000000</td>\n",
       "      <td>6.000000</td>\n",
       "      <td>4.000000</td>\n",
       "      <td>14.000000</td>\n",
       "      <td>5.000000</td>\n",
       "      <td>2.000000</td>\n",
       "      <td>99999.000000</td>\n",
       "      <td>4356.000000</td>\n",
       "      <td>99.000000</td>\n",
       "      <td>2.000000</td>\n",
       "    </tr>\n",
       "  </tbody>\n",
       "</table>\n",
       "</div>"
      ],
      "text/plain": [
       "                age     education  marital.status    occupation          race  \\\n",
       "count  30718.000000  30718.000000    30718.000000  30718.000000  30718.000000   \n",
       "mean      38.443584      2.645420        3.255616     10.222508      4.781659   \n",
       "std       13.118227      1.291561        0.833092      2.962386      0.621965   \n",
       "min       17.000000      1.000000        1.000000      1.000000      1.000000   \n",
       "25%       28.000000      2.000000        3.000000      8.000000      5.000000   \n",
       "50%       37.000000      2.000000        3.000000     11.000000      5.000000   \n",
       "75%       47.000000      4.000000        4.000000     13.000000      5.000000   \n",
       "max       90.000000      6.000000        4.000000     14.000000      5.000000   \n",
       "\n",
       "                sex  capital.gain  capital.loss  hours.per.week        income  \n",
       "count  30718.000000  30718.000000  30718.000000    30718.000000  30718.000000  \n",
       "mean       1.676737   1106.037079     88.910216       40.949313      1.249040  \n",
       "std        0.467730   7497.863364    405.657203       11.985382      0.432464  \n",
       "min        1.000000      0.000000      0.000000        1.000000      1.000000  \n",
       "25%        1.000000      0.000000      0.000000       40.000000      1.000000  \n",
       "50%        2.000000      0.000000      0.000000       40.000000      1.000000  \n",
       "75%        2.000000      0.000000      0.000000       45.000000      1.000000  \n",
       "max        2.000000  99999.000000   4356.000000       99.000000      2.000000  "
      ]
     },
     "execution_count": 233,
     "metadata": {},
     "output_type": "execute_result"
    }
   ],
   "source": [
    "df.describe()"
   ]
  },
  {
   "cell_type": "code",
   "execution_count": 234,
   "id": "eb8c4036",
   "metadata": {},
   "outputs": [
    {
     "data": {
      "text/html": [
       "<div>\n",
       "<style scoped>\n",
       "    .dataframe tbody tr th:only-of-type {\n",
       "        vertical-align: middle;\n",
       "    }\n",
       "\n",
       "    .dataframe tbody tr th {\n",
       "        vertical-align: top;\n",
       "    }\n",
       "\n",
       "    .dataframe thead th {\n",
       "        text-align: right;\n",
       "    }\n",
       "</style>\n",
       "<table border=\"1\" class=\"dataframe\">\n",
       "  <thead>\n",
       "    <tr style=\"text-align: right;\">\n",
       "      <th></th>\n",
       "      <th>age</th>\n",
       "      <th>education</th>\n",
       "      <th>marital.status</th>\n",
       "      <th>occupation</th>\n",
       "      <th>race</th>\n",
       "      <th>sex</th>\n",
       "      <th>capital.gain</th>\n",
       "      <th>capital.loss</th>\n",
       "      <th>hours.per.week</th>\n",
       "    </tr>\n",
       "  </thead>\n",
       "  <tbody>\n",
       "    <tr>\n",
       "      <th>1</th>\n",
       "      <td>82</td>\n",
       "      <td>2</td>\n",
       "      <td>1</td>\n",
       "      <td>12</td>\n",
       "      <td>5</td>\n",
       "      <td>1</td>\n",
       "      <td>0</td>\n",
       "      <td>4356</td>\n",
       "      <td>18</td>\n",
       "    </tr>\n",
       "    <tr>\n",
       "      <th>3</th>\n",
       "      <td>54</td>\n",
       "      <td>1</td>\n",
       "      <td>2</td>\n",
       "      <td>8</td>\n",
       "      <td>5</td>\n",
       "      <td>1</td>\n",
       "      <td>0</td>\n",
       "      <td>3900</td>\n",
       "      <td>40</td>\n",
       "    </tr>\n",
       "    <tr>\n",
       "      <th>4</th>\n",
       "      <td>41</td>\n",
       "      <td>3</td>\n",
       "      <td>2</td>\n",
       "      <td>14</td>\n",
       "      <td>5</td>\n",
       "      <td>1</td>\n",
       "      <td>0</td>\n",
       "      <td>3900</td>\n",
       "      <td>40</td>\n",
       "    </tr>\n",
       "    <tr>\n",
       "      <th>5</th>\n",
       "      <td>34</td>\n",
       "      <td>2</td>\n",
       "      <td>2</td>\n",
       "      <td>9</td>\n",
       "      <td>5</td>\n",
       "      <td>1</td>\n",
       "      <td>0</td>\n",
       "      <td>3770</td>\n",
       "      <td>45</td>\n",
       "    </tr>\n",
       "    <tr>\n",
       "      <th>6</th>\n",
       "      <td>38</td>\n",
       "      <td>1</td>\n",
       "      <td>2</td>\n",
       "      <td>11</td>\n",
       "      <td>5</td>\n",
       "      <td>2</td>\n",
       "      <td>0</td>\n",
       "      <td>3770</td>\n",
       "      <td>40</td>\n",
       "    </tr>\n",
       "    <tr>\n",
       "      <th>...</th>\n",
       "      <td>...</td>\n",
       "      <td>...</td>\n",
       "      <td>...</td>\n",
       "      <td>...</td>\n",
       "      <td>...</td>\n",
       "      <td>...</td>\n",
       "      <td>...</td>\n",
       "      <td>...</td>\n",
       "      <td>...</td>\n",
       "    </tr>\n",
       "    <tr>\n",
       "      <th>32556</th>\n",
       "      <td>22</td>\n",
       "      <td>3</td>\n",
       "      <td>3</td>\n",
       "      <td>3</td>\n",
       "      <td>5</td>\n",
       "      <td>2</td>\n",
       "      <td>0</td>\n",
       "      <td>0</td>\n",
       "      <td>40</td>\n",
       "    </tr>\n",
       "    <tr>\n",
       "      <th>32557</th>\n",
       "      <td>27</td>\n",
       "      <td>1</td>\n",
       "      <td>4</td>\n",
       "      <td>4</td>\n",
       "      <td>5</td>\n",
       "      <td>1</td>\n",
       "      <td>0</td>\n",
       "      <td>0</td>\n",
       "      <td>38</td>\n",
       "    </tr>\n",
       "    <tr>\n",
       "      <th>32558</th>\n",
       "      <td>40</td>\n",
       "      <td>2</td>\n",
       "      <td>4</td>\n",
       "      <td>8</td>\n",
       "      <td>5</td>\n",
       "      <td>2</td>\n",
       "      <td>0</td>\n",
       "      <td>0</td>\n",
       "      <td>40</td>\n",
       "    </tr>\n",
       "    <tr>\n",
       "      <th>32559</th>\n",
       "      <td>58</td>\n",
       "      <td>2</td>\n",
       "      <td>1</td>\n",
       "      <td>11</td>\n",
       "      <td>5</td>\n",
       "      <td>1</td>\n",
       "      <td>0</td>\n",
       "      <td>0</td>\n",
       "      <td>40</td>\n",
       "    </tr>\n",
       "    <tr>\n",
       "      <th>32560</th>\n",
       "      <td>22</td>\n",
       "      <td>2</td>\n",
       "      <td>3</td>\n",
       "      <td>11</td>\n",
       "      <td>5</td>\n",
       "      <td>2</td>\n",
       "      <td>0</td>\n",
       "      <td>0</td>\n",
       "      <td>20</td>\n",
       "    </tr>\n",
       "  </tbody>\n",
       "</table>\n",
       "<p>30718 rows × 9 columns</p>\n",
       "</div>"
      ],
      "text/plain": [
       "       age  education  marital.status  occupation  race  sex  capital.gain  \\\n",
       "1       82          2               1          12     5    1             0   \n",
       "3       54          1               2           8     5    1             0   \n",
       "4       41          3               2          14     5    1             0   \n",
       "5       34          2               2           9     5    1             0   \n",
       "6       38          1               2          11     5    2             0   \n",
       "...    ...        ...             ...         ...   ...  ...           ...   \n",
       "32556   22          3               3           3     5    2             0   \n",
       "32557   27          1               4           4     5    1             0   \n",
       "32558   40          2               4           8     5    2             0   \n",
       "32559   58          2               1          11     5    1             0   \n",
       "32560   22          2               3          11     5    2             0   \n",
       "\n",
       "       capital.loss  hours.per.week  \n",
       "1              4356              18  \n",
       "3              3900              40  \n",
       "4              3900              40  \n",
       "5              3770              45  \n",
       "6              3770              40  \n",
       "...             ...             ...  \n",
       "32556             0              40  \n",
       "32557             0              38  \n",
       "32558             0              40  \n",
       "32559             0              40  \n",
       "32560             0              20  \n",
       "\n",
       "[30718 rows x 9 columns]"
      ]
     },
     "execution_count": 234,
     "metadata": {},
     "output_type": "execute_result"
    }
   ],
   "source": [
    "X = df.loc[:,['age', 'education', 'marital.status', 'occupation', 'race', 'sex','capital.gain', 'capital.loss', 'hours.per.week']]\n",
    "X"
   ]
  },
  {
   "cell_type": "code",
   "execution_count": 235,
   "id": "2ec69a56",
   "metadata": {},
   "outputs": [
    {
     "data": {
      "text/plain": [
       "1        1\n",
       "3        1\n",
       "4        1\n",
       "5        1\n",
       "6        1\n",
       "        ..\n",
       "32556    1\n",
       "32557    1\n",
       "32558    2\n",
       "32559    1\n",
       "32560    1\n",
       "Name: income, Length: 30718, dtype: int64"
      ]
     },
     "execution_count": 235,
     "metadata": {},
     "output_type": "execute_result"
    }
   ],
   "source": [
    "Y = df.loc[:,'income']\n",
    "Y"
   ]
  },
  {
   "cell_type": "markdown",
   "id": "910c9fc6-a2cd-442a-a8c1-9ea50eebea3c",
   "metadata": {},
   "source": [
    "**Model Development**"
   ]
  },
  {
   "cell_type": "code",
   "execution_count": 236,
   "id": "3fefe729",
   "metadata": {},
   "outputs": [
    {
     "data": {
      "text/plain": [
       "array([[ 3.32035145, -0.49972888, -2.70756628, ..., -0.14751604,\n",
       "        10.51912603, -1.91480644],\n",
       "       [ 1.18588199, -1.27399862, -1.50719939, ..., -0.14751604,\n",
       "         9.39500591, -0.0792072 ],\n",
       "       [ 0.19487831,  0.27454086, -1.50719939, ..., -0.14751604,\n",
       "         9.39500591, -0.0792072 ],\n",
       "       ...,\n",
       "       [ 0.11864726, -0.49972888,  0.89353439, ..., -0.14751604,\n",
       "        -0.2191793 , -0.0792072 ],\n",
       "       [ 1.4908062 , -0.49972888, -2.70756628, ..., -0.14751604,\n",
       "        -0.2191793 , -0.0792072 ],\n",
       "       [-1.25351168, -0.49972888, -0.3068325 , ..., -0.14751604,\n",
       "        -0.2191793 , -1.74793378]])"
      ]
     },
     "execution_count": 236,
     "metadata": {},
     "output_type": "execute_result"
    }
   ],
   "source": [
    "from sklearn.preprocessing import StandardScaler\n",
    "from sklearn.model_selection import train_test_split\n",
    "\n",
    "scaler = StandardScaler()\n",
    "X_scaled = scaler.fit_transform(X)\n",
    "X_scaled"
   ]
  },
  {
   "cell_type": "code",
   "execution_count": 237,
   "id": "774c62ed",
   "metadata": {},
   "outputs": [],
   "source": [
    "x_train, x_test, y_train, y_test = train_test_split(X_scaled, Y, test_size=0.2, random_state=30)"
   ]
  },
  {
   "cell_type": "code",
   "execution_count": 238,
   "id": "d0ac9ee6",
   "metadata": {},
   "outputs": [],
   "source": [
    "from sklearn.decomposition import PCA\n",
    "\n",
    "pca = PCA(0.80)\n",
    "X_pca = pca.fit_transform(X)\n",
    "X_pca.shape\n",
    "x_train_pca, x_test_pca, y_train_pca, y_test_pca = train_test_split(X_pca, Y, test_size=0.2, random_state=30)"
   ]
  },
  {
   "cell_type": "markdown",
   "id": "faf4926f",
   "metadata": {},
   "source": [
    "Using SVM as my model"
   ]
  },
  {
   "cell_type": "code",
   "execution_count": 239,
   "id": "65971003",
   "metadata": {},
   "outputs": [],
   "source": [
    "from sklearn import svm\n",
    "from sklearn import metrics\n",
    "\n",
    "svm_classifier = svm.SVC()\n",
    "svm_classifier.fit(x_train, y_train)\n",
    "y_pred_svm = svm_classifier.predict(x_test)"
   ]
  },
  {
   "cell_type": "code",
   "execution_count": 240,
   "id": "603be966",
   "metadata": {},
   "outputs": [
    {
     "name": "stdout",
     "output_type": "stream",
     "text": [
      "Accuracy: 0.8465169270833334\n",
      "Precision calc: 0.8616290480863592\n",
      "Recall calc: 0.9485738980121002\n"
     ]
    }
   ],
   "source": [
    "print(\"Accuracy:\",metrics.accuracy_score(y_test, y_pred_svm))\n",
    "print(\"Precision calc:\", metrics.precision_score(y_test, y_pred_svm))\n",
    "print(\"Recall calc:\", metrics.recall_score(y_test, y_pred_svm))\n"
   ]
  },
  {
   "cell_type": "code",
   "execution_count": 241,
   "id": "29ea605e",
   "metadata": {},
   "outputs": [
    {
     "data": {
      "text/plain": [
       "Text(42.0, 0.5, 'Truth')"
      ]
     },
     "execution_count": 241,
     "metadata": {},
     "output_type": "execute_result"
    },
    {
     "data": {
      "image/png": "[encoded data removed]",
      "text/plain": [
       "<Figure size 504x360 with 2 Axes>"
      ]
     },
     "metadata": {
      "needs_background": "light"
     },
     "output_type": "display_data"
    }
   ],
   "source": [
    "from sklearn.metrics import confusion_matrix\n",
    "%matplotlib inline\n",
    "import matplotlib.pyplot as plt\n",
    "import seaborn as sn\n",
    "cm_svm = confusion_matrix(y_test, y_pred_svm)\n",
    "plt.figure(figsize=(7,5))\n",
    "sn.heatmap(cm_svm, annot=True)\n",
    "plt.xlabel('Predicted')\n",
    "plt.ylabel('Truth')"
   ]
  },
  {
   "cell_type": "code",
   "execution_count": 242,
   "id": "997b3c8c",
   "metadata": {},
   "outputs": [
    {
     "name": "stdout",
     "output_type": "stream",
     "text": [
      "              precision    recall  f1-score   support\n",
      "\n",
      "           1       0.86      0.95      0.90      4628\n",
      "           2       0.77      0.53      0.63      1516\n",
      "\n",
      "    accuracy                           0.85      6144\n",
      "   macro avg       0.82      0.74      0.77      6144\n",
      "weighted avg       0.84      0.85      0.84      6144\n",
      "\n"
     ]
    }
   ],
   "source": [
    "from sklearn.metrics import classification_report\n",
    "\n",
    "print(classification_report(y_test, y_pred_svm))"
   ]
  },
  {
   "cell_type": "markdown",
   "id": "f7315a83",
   "metadata": {},
   "source": [
    "Using KNN as my model"
   ]
  },
  {
   "cell_type": "code",
   "execution_count": 243,
   "id": "4a51e05b",
   "metadata": {},
   "outputs": [],
   "source": [
    "from sklearn.neighbors import KNeighborsClassifier\n",
    "\n",
    "knn = KNeighborsClassifier(n_neighbors=2)\n",
    "knn.fit(x_train, y_train)\n",
    "y_pred_knn = knn.predict(x_test)\n"
   ]
  },
  {
   "cell_type": "code",
   "execution_count": 244,
   "id": "134df20d",
   "metadata": {},
   "outputs": [
    {
     "name": "stdout",
     "output_type": "stream",
     "text": [
      "Accuracy: 0.8146158854166666\n",
      "Precision calc: 0.8312132143535219\n",
      "Recall calc: 0.945980985306828\n"
     ]
    }
   ],
   "source": [
    "print(\"Accuracy:\",metrics.accuracy_score(y_test, y_pred_knn))\n",
    "print(\"Precision calc:\", metrics.precision_score(y_test, y_pred_knn))\n",
    "print(\"Recall calc:\", metrics.recall_score(y_test, y_pred_knn))"
   ]
  },
  {
   "cell_type": "code",
   "execution_count": 245,
   "id": "0e1020dc",
   "metadata": {},
   "outputs": [
    {
     "data": {
      "text/plain": [
       "Text(42.0, 0.5, 'Truth')"
      ]
     },
     "execution_count": 245,
     "metadata": {},
     "output_type": "execute_result"
    },
    {
     "data": {
      "image/png": "[encoded data removed]",
      "text/plain": [
       "<Figure size 504x360 with 2 Axes>"
      ]
     },
     "metadata": {
      "needs_background": "light"
     },
     "output_type": "display_data"
    }
   ],
   "source": [
    "from sklearn.metrics import confusion_matrix\n",
    "%matplotlib inline\n",
    "import matplotlib.pyplot as plt\n",
    "import seaborn as sn\n",
    "cm_knn = confusion_matrix(y_test, y_pred_knn)\n",
    "plt.figure(figsize=(7,5))\n",
    "sn.heatmap(cm_knn, annot=True)\n",
    "plt.xlabel('Predicted')\n",
    "plt.ylabel('Truth')"
   ]
  },
  {
   "cell_type": "code",
   "execution_count": 246,
   "id": "ab20a5ee",
   "metadata": {},
   "outputs": [
    {
     "name": "stdout",
     "output_type": "stream",
     "text": [
      "              precision    recall  f1-score   support\n",
      "\n",
      "           1       0.83      0.95      0.88      4628\n",
      "           2       0.71      0.41      0.52      1516\n",
      "\n",
      "    accuracy                           0.81      6144\n",
      "   macro avg       0.77      0.68      0.70      6144\n",
      "weighted avg       0.80      0.81      0.80      6144\n",
      "\n"
     ]
    }
   ],
   "source": [
    "from sklearn.metrics import classification_report\n",
    "\n",
    "print(classification_report(y_test, y_pred_knn))"
   ]
  },
  {
   "cell_type": "markdown",
   "id": "33e00369",
   "metadata": {},
   "source": [
    "Using Linear SVC as my model"
   ]
  },
  {
   "cell_type": "code",
   "execution_count": 247,
   "id": "8a8d0f17",
   "metadata": {},
   "outputs": [
    {
     "name": "stderr",
     "output_type": "stream",
     "text": [
      "C:\\Users\\sguad\\anaconda3\\lib\\site-packages\\sklearn\\svm\\_base.py:985: ConvergenceWarning: Liblinear failed to converge, increase the number of iterations.\n",
      "  warnings.warn(\"Liblinear failed to converge, increase \"\n"
     ]
    }
   ],
   "source": [
    "from sklearn.svm import LinearSVC\n",
    "\n",
    "svc = LinearSVC()\n",
    "svc.fit(x_train, y_train)\n",
    "y_pred_svc = svc.predict(x_test)\n"
   ]
  },
  {
   "cell_type": "code",
   "execution_count": 248,
   "id": "af89a935",
   "metadata": {},
   "outputs": [
    {
     "name": "stdout",
     "output_type": "stream",
     "text": [
      "Accuracy: 0.8336588541666666\n",
      "Precision calc: 0.8482039397450754\n",
      "Recall calc: 0.9490060501296457\n"
     ]
    }
   ],
   "source": [
    "print(\"Accuracy:\",metrics.accuracy_score(y_test, y_pred_svc))\n",
    "print(\"Precision calc:\", metrics.precision_score(y_test, y_pred_svc))\n",
    "print(\"Recall calc:\", metrics.recall_score(y_test, y_pred_svc))"
   ]
  },
  {
   "cell_type": "code",
   "execution_count": 249,
   "id": "bf8b4b50",
   "metadata": {},
   "outputs": [
    {
     "data": {
      "text/plain": [
       "Text(42.0, 0.5, 'Truth')"
      ]
     },
     "execution_count": 249,
     "metadata": {},
     "output_type": "execute_result"
    },
    {
     "data": {
      "image/png": "[encoded data removed]",
      "text/plain": [
       "<Figure size 504x360 with 2 Axes>"
      ]
     },
     "metadata": {
      "needs_background": "light"
     },
     "output_type": "display_data"
    }
   ],
   "source": [
    "from sklearn.metrics import confusion_matrix\n",
    "%matplotlib inline\n",
    "import matplotlib.pyplot as plt\n",
    "import seaborn as sn\n",
    "cm_svc = confusion_matrix(y_test, y_pred_svc)\n",
    "plt.figure(figsize=(7,5))\n",
    "sn.heatmap(cm_svc, annot=True)\n",
    "plt.xlabel('Predicted')\n",
    "plt.ylabel('Truth')"
   ]
  },
  {
   "cell_type": "code",
   "execution_count": 250,
   "id": "62c5e32e",
   "metadata": {},
   "outputs": [
    {
     "name": "stdout",
     "output_type": "stream",
     "text": [
      "              precision    recall  f1-score   support\n",
      "\n",
      "           1       0.85      0.95      0.90      4628\n",
      "           2       0.76      0.48      0.59      1516\n",
      "\n",
      "    accuracy                           0.83      6144\n",
      "   macro avg       0.80      0.72      0.74      6144\n",
      "weighted avg       0.83      0.83      0.82      6144\n",
      "\n"
     ]
    }
   ],
   "source": [
    "from sklearn.metrics import classification_report\n",
    "\n",
    "print(classification_report(y_test, y_pred_svc))"
   ]
  },
  {
   "cell_type": "code",
   "execution_count": null,
   "id": "9a93c700",
   "metadata": {},
   "outputs": [],
   "source": []
  }
 ],
 "metadata": {
  "kernelspec": {
   "display_name": "Python 3",
   "language": "python",
   "name": "python3"
  },
  "language_info": {
   "codemirror_mode": {
    "name": "ipython",
    "version": 3
   },
   "file_extension": ".py",
   "mimetype": "text/x-python",
   "name": "python",
   "nbconvert_exporter": "python",
   "pygments_lexer": "ipython3",
   "version": "3.8.8"
  }
 },
 "nbformat": 4,
 "nbformat_minor": 5
}
